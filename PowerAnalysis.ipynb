{
 "cells": [
  {
   "cell_type": "markdown",
   "metadata": {},
   "source": [
    "## **Practicing Power Analysis**\n",
    "\n",
    "Goal of this workbook:\n",
    "1. Refresh my understanding of PowerAnalysis\n",
    "2. Code up a function that I can reuse in the future\n",
    "3. Allow the function to then vary give parameters, for example, nsize, threshold, and effect size so that I can easily compute necessary values for a certain power level."
   ]
  },
  {
   "cell_type": "code",
   "execution_count": 348,
   "metadata": {},
   "outputs": [],
   "source": [
    "# Modules:\n",
    "import numpy as np\n",
    "import pandas as pd\n",
    "import scipy.stats\n",
    "from matplotlib import pyplot\n",
    "% matplotlib inline"
   ]
  },
  {
   "cell_type": "markdown",
   "metadata": {},
   "source": [
    "**Working through this**\n",
    "[resources](http://www.djmannion.net/psych_programming/data/power/power.html)\n",
    "\n",
    "\n",
    "\n",
    "For a given N-size, two group data (mean and sigmas), and threshold (.01 for example):\n",
    "- Compute the \"Power\" through simulation. \n",
    "- Then compute necessary n-size"
   ]
  },
  {
   "cell_type": "code",
   "execution_count": 357,
   "metadata": {},
   "outputs": [],
   "source": [
    "# The function adapted from resources above.\n",
    "\n",
    "def get_power(n,means, sigmas, thresh):\n",
    "    \n",
    "    n_per_group = n\n",
    "    group_means = means\n",
    "    group_sigmas = sigmas\n",
    "    n_groups = len(group_means)\n",
    "    n_sims = 1000\n",
    "    sim_p = np.repeat(np.nan,n_sims)\n",
    "\n",
    "    \n",
    "    # Create Data for each group\n",
    "    for i_sim in range(n_sims):\n",
    "        \n",
    "        # instantiate empties to fill results in n_per_group by n matrix...\n",
    "        data = np.empty([n_per_group,n_groups])\n",
    "        data.fill(np.nan)\n",
    "\n",
    "        # generate n_per_group # of values for both groups.\n",
    "        # assume normal and use np.random.normal to generate random values. \n",
    "        # fill in \"data\" container\n",
    "        \n",
    "        for i_group in range(n_groups):\n",
    "            data[:,i_group] = np.random.normal(\n",
    "                loc = group_means[i_group],\n",
    "                scale = group_sigmas[i_group],\n",
    "                size = n_per_group\n",
    "            )\n",
    "            \n",
    "        # Execute Test on each iteration's generated data... \n",
    "        result = scipy.stats.ttest_ind(data[:,0], data[:,1])\n",
    "        # Collect the p-value\n",
    "        sim_p[i_sim] = result[1]\n",
    "\n",
    "    # Compute # of instances where simulated p values is less than threshold\n",
    "    reject = np.sum(sim_p < thresh)\n",
    "    pro_rej = reject/float(n_sims)\n",
    "    return n, pro_rej\n",
    "\n"
   ]
  },
  {
   "cell_type": "markdown",
   "metadata": {},
   "source": [
    "** Compute the Power **"
   ]
  },
  {
   "cell_type": "code",
   "execution_count": 385,
   "metadata": {},
   "outputs": [
    {
     "name": "stdout",
     "output_type": "stream",
     "text": [
      "Given an nsize of 100.000000, the power of this estimate is 0.835000)\n"
     ]
    }
   ],
   "source": [
    "print(\"Given an nsize of %f, the power of this estimate is %f)\" %  \\\n",
    "get_power(\n",
    "    n= 100, # Nsize of study\n",
    "    means =[0,.5],\n",
    "    sigmas=[1,1],\n",
    "    thresh = .01))"
   ]
  },
  {
   "cell_type": "markdown",
   "metadata": {},
   "source": [
    "** Simulate data given sample size and compute Power at each **\n",
    "\n",
    "Goal: choose best sample size necessary for power"
   ]
  },
  {
   "cell_type": "code",
   "execution_count": 359,
   "metadata": {},
   "outputs": [],
   "source": [
    "start, end,steps = 20,50,2\n",
    "\n",
    "out = {}\n",
    "for n_size in np.arange(start,end, steps):\n",
    "    key, value= get_power(n = n_size, means = [.0,.8], sigmas = [1,1], thresh = .01)\n",
    "    out[key] = value"
   ]
  },
  {
   "cell_type": "markdown",
   "metadata": {},
   "source": [
    "Visualize the results"
   ]
  },
  {
   "cell_type": "code",
   "execution_count": 363,
   "metadata": {},
   "outputs": [
    {
     "data": {
      "image/png": "[encoded data removed]",
      "text/plain": [
       "<matplotlib.figure.Figure at 0x1eb6259ef28>"
      ]
     },
     "metadata": {},
     "output_type": "display_data"
    }
   ],
   "source": [
    "x = out.keys()\n",
    "y = out.values()\n",
    "\n",
    "pyplot.figure(figsize = (20,5))\n",
    "pyplot.title(\"Power Analysis\")\n",
    "pyplot.bar(np.arange(len(x)),y)\n",
    "pyplot.xticks(np.arange(len(x)),['n = '+ i.astype(str) for i in x])\n",
    "pyplot.show()"
   ]
  }
 ],
 "metadata": {
  "kernelspec": {
   "display_name": "Python 3",
   "language": "python",
   "name": "python3"
  },
  "language_info": {
   "codemirror_mode": {
    "name": "ipython",
    "version": 3
   },
   "file_extension": ".py",
   "mimetype": "text/x-python",
   "name": "python",
   "nbconvert_exporter": "python",
   "pygments_lexer": "ipython3",
   "version": "3.6.0"
  }
 },
 "nbformat": 4,
 "nbformat_minor": 2
}
